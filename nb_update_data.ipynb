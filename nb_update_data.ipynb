{
 "cells": [
  {
   "cell_type": "code",
   "execution_count": 1,
   "metadata": {},
   "outputs": [],
   "source": [
    "# May need to install any of the following:\n",
    "# pip install requests\n",
    "# pip install bs4\n",
    "# pip install pandas\n",
    "# pip install sqlalchemy\n",
    "\n",
    "# Import the libraries we will use to scrape symbol data\n",
    "import io\n",
    "import requests\n",
    "from bs4 import BeautifulSoup\n",
    "import pandas as pd\n",
    "import numpy as np\n",
    "import sqlalchemy as sa\n",
    "import sqlite3\n",
    "from sqlite3 import Error\n",
    "from datetime import date, datetime, timezone, timedelta\n",
    "from dateutil.parser import parse\n",
    "\n",
    "import os\n",
    "import glob\n",
    "import re\n",
    "import csv\n",
    "\n",
    "import logging\n",
    "import random"
   ]
  },
  {
   "cell_type": "code",
   "execution_count": 2,
   "metadata": {},
   "outputs": [],
   "source": [
    "#=========================================================================================\n",
    "\n",
    "# Define required functions\n",
    "\n",
    "def create_connection(db_file):\n",
    "    \"\"\" create a database connection to the SQLite database\n",
    "        specified by the db_file\n",
    "    :param db_file: database file\n",
    "    :return: Connection object or None\n",
    "    \"\"\"\n",
    "    conn = None\n",
    "    try:\n",
    "        conn = sqlite3.connect(db_file)\n",
    "    except Error as e:\n",
    "        print(e)\n",
    "\n",
    "    return conn"
   ]
  },
  {
   "cell_type": "code",
   "execution_count": 3,
   "metadata": {},
   "outputs": [],
   "source": [
    "#=========================================================================================\n",
    "\n",
    "# Ensure our output directory exists\n",
    "if not os.path.exists('output'):\n",
    "    os.makedirs('output')"
   ]
  },
  {
   "cell_type": "code",
   "execution_count": 4,
   "metadata": {},
   "outputs": [],
   "source": [
    "conn = create_connection(\"output/team122project.sqlite3\")"
   ]
  },
  {
   "cell_type": "markdown",
   "metadata": {},
   "source": [
    "df_current = pd.read_sql_query(\"SELECT * FROM securities_by_date ORDER BY DATE\", conn, index_col='Date')\n",
    "df_current.head()"
   ]
  },
  {
   "cell_type": "markdown",
   "metadata": {},
   "source": [
    "df_no_all_nulls = df_current.drop(df_current[df_current.any(axis=1) == False].index, axis=0)\n",
    "df_no_all_nulls.head(20)"
   ]
  },
  {
   "cell_type": "markdown",
   "metadata": {},
   "source": [
    "print(f\"Current Size: {df_current.shape[0]}, New size: {df_no_all_nulls.shape[0]}\")"
   ]
  },
  {
   "cell_type": "markdown",
   "metadata": {},
   "source": [
    "df_no_all_nulls.to_sql(name='securities_by_date', con=conn, if_exists='replace', index=True)"
   ]
  },
  {
   "cell_type": "code",
   "execution_count": 5,
   "metadata": {},
   "outputs": [
    {
     "name": "stdout",
     "output_type": "stream",
     "text": [
      "2023-10-18T00:00:00\n"
     ]
    }
   ],
   "source": [
    "#=========================================================================================\n",
    "\n",
    "cur = conn.cursor()\n",
    "cur.execute(\"SELECT EXISTS(SELECT 1 FROM sqlite_master WHERE type='table' AND name='securities_by_date') AS securities_exist\")\n",
    "securities_exist, = cur.fetchone()\n",
    "\n",
    "if bool(securities_exist):\n",
    "    cur.execute(\"SELECT Date AS LastUpdate FROM securities_by_date ORDER BY Date DESC LIMIT 1\")\n",
    "    last_update, = cur.fetchone()\n",
    "else:\n",
    "    last_update = '2009-12-31T00:00:00' # Hard code to the day before our earliest date to be considered for this project\n",
    "\n",
    "print(last_update)"
   ]
  },
  {
   "cell_type": "code",
   "execution_count": 6,
   "metadata": {},
   "outputs": [
    {
     "data": {
      "text/plain": [
       "(2023, 10, 18)"
      ]
     },
     "execution_count": 6,
     "metadata": {},
     "output_type": "execute_result"
    }
   ],
   "source": [
    "dt_last_update = datetime.fromisoformat(last_update)\n",
    "dt_last_update.year, dt_last_update.month, dt_last_update.day"
   ]
  },
  {
   "cell_type": "code",
   "execution_count": 7,
   "metadata": {},
   "outputs": [],
   "source": [
    "#dt_now = date.today() - timedelta(days=1)\n",
    "# For update purposes, do not subtract one day. In fact, there must always be\n",
    "# at least one day difference between the start and edn dates according to API\n",
    "dt_now = date.today()\n",
    "dt_now = datetime(dt_now.year, dt_now.month, dt_now.day, tzinfo=timezone.utc)\n",
    "dt_last_update = dt_last_update + timedelta(days=1)\n",
    "dt_last_update = datetime(dt_last_update.year, dt_last_update.month, dt_last_update.day, tzinfo=timezone.utc)\n"
   ]
  },
  {
   "cell_type": "code",
   "execution_count": 8,
   "metadata": {},
   "outputs": [
    {
     "name": "stdout",
     "output_type": "stream",
     "text": [
      "\n",
      "Yahoo period1 = 1697673600 corresponds to date 2023-10-19 00:00:00+00:00\n",
      "\n",
      "Yahoo period2 = 1697760000 corresponds to date 2023-10-20 00:00:00+00:00\n"
     ]
    }
   ],
   "source": [
    "timestmp1 = int(dt_last_update.timestamp())\n",
    "timestmp2 = int(dt_now.timestamp())\n",
    "\n",
    "print(f\"\\nYahoo period1 = {timestmp1} corresponds to date {dt_last_update}\")\n",
    "print(f\"\\nYahoo period2 = {timestmp2} corresponds to date {dt_now}\")"
   ]
  },
  {
   "cell_type": "code",
   "execution_count": 9,
   "metadata": {},
   "outputs": [],
   "source": [
    "#=========================================================================================\n",
    "\n",
    "datatypes = {\n",
    "      'Country'             : str\n",
    "    , 'Exchange_ID'         : str\n",
    "    , 'Symbol'              : str\n",
    "    , 'Description'         : str\n",
    "    , 'Local_Symbol'        : str\n",
    "    , 'IPO_Date'            : str\n",
    "    , 'Category1'           : str\n",
    "    , 'Category2'           : str\n",
    "    , 'Category3'           : str\n",
    "    , 'GICS_Sector'         : str\n",
    "    , 'ISIN'                : str\n",
    "    , 'SEDOL'               : str\n",
    "    , 'Market_Cap'          : str #np.int64\n",
    "    , 'Currency'            : str\n",
    "    , 'Actions'             : str\n",
    "    , 'Yahoo_Symbol'        : str\n",
    "    , 'Yahoo_Listings_Link' : str\n",
    "}\n",
    "\n",
    "datecolumns = ['IPO_Date']\n",
    "\n",
    "# Read the links from our SQLite3 database\n",
    "\n",
    "df_Yahoo_links_good_sectors_latestdates = pd.read_sql('select * from yahoo_links', con=conn, dtype=datatypes, parse_dates=datecolumns) #, date_format='mm/dd/yyyy')\n",
    "\n",
    "#logging.info(f\"\\nRead {df_Yahoo_links_good_sectors_latestdates.shape[0]} rows.\\n{df_Yahoo_links_good_sectors_latestdates.head()}\")\n"
   ]
  },
  {
   "cell_type": "code",
   "execution_count": 10,
   "metadata": {},
   "outputs": [
    {
     "name": "stdout",
     "output_type": "stream",
     "text": [
      "\n",
      "First 10 dates in dataframe dfAllDates:\n",
      "Empty DataFrame\n",
      "Columns: []\n",
      "Index: [2023-10-19 00:00:00, 2023-10-20 00:00:00]\n",
      "\n",
      "Last 10 dates in dataframe dfAllDates:\n",
      "Empty DataFrame\n",
      "Columns: []\n",
      "Index: [2023-10-19 00:00:00, 2023-10-20 00:00:00]\n"
     ]
    }
   ],
   "source": [
    "#=========================================================================================\n",
    "\n",
    "# Create a series of dates from the latest date to be updated to yesterday\n",
    "idxDates = pd.Series(pd.date_range(start=dt_last_update.date(), end=date(dt_now.year, dt_now.month, dt_now.day)))\n",
    "# Create an empty dataframe with just the index (= the series of dates)\n",
    "dfAllDates = pd.DataFrame(index=idxDates)\n",
    "# Rename the index\n",
    "dfAllDates.index.name=\"Date\"\n",
    "\n",
    "print(f\"\\nFirst 10 dates in dataframe dfAllDates:\\n{dfAllDates.head(10)}\")\n",
    "\n",
    "print(f\"\\nLast 10 dates in dataframe dfAllDates:\\n{dfAllDates.tail(10)}\")\n"
   ]
  },
  {
   "cell_type": "code",
   "execution_count": 11,
   "metadata": {},
   "outputs": [
    {
     "name": "stdout",
     "output_type": "stream",
     "text": [
      "\n",
      "Attempting download historical prices for symbol 'AAMC'' from https://query1.finance.yahoo.com/v7/finance/download/AAMC?period1=1697673600&period2=1697760000&interval=1d&events=history&includeAdjustedClose=true\n",
      "\n",
      "Attempting download historical prices for symbol 'ACU'' from https://query1.finance.yahoo.com/v7/finance/download/ACU?period1=1697673600&period2=1697760000&interval=1d&events=history&includeAdjustedClose=true\n",
      "\n",
      "Attempting download historical prices for symbol 'AE'' from https://query1.finance.yahoo.com/v7/finance/download/AE?period1=1697673600&period2=1697760000&interval=1d&events=history&includeAdjustedClose=true\n",
      "\n",
      "Attempting download historical prices for symbol 'AGE'' from https://query1.finance.yahoo.com/v7/finance/download/AGE?period1=1697673600&period2=1697760000&interval=1d&events=history&includeAdjustedClose=true\n",
      "\n",
      "Joining all columns of the downloaded securities into a single dataframe\n"
     ]
    }
   ],
   "source": [
    "# -----------------------------------------------------------------------------------------------------------------------\n",
    "# This is where the Yahoo downloads actually occur - may need to use random proxy URLs to get past Yahoo's request limits\n",
    "# -----------------------------------------------------------------------------------------------------------------------\n",
    "\n",
    "loopUntil = df_Yahoo_links_good_sectors_latestdates.shape[0]\n",
    "####################################################################\n",
    "####################################################################\n",
    "####################################################################\n",
    "loopUntil = 4 # Try with a smaller set of data, instead of all files\n",
    "####################################################################\n",
    "####################################################################\n",
    "####################################################################\n",
    "dict_dfYahooSecurities = {}\n",
    "\n",
    "with requests.session():\n",
    "    header = {\n",
    "        'Connection': 'keep-alive',\n",
    "        'Expires': '-1',\n",
    "        'Upgrade-Insecure-Requests': '1',\n",
    "        'User-Agent': 'Mozilla/5.0 (Windows NT 10.0; WOW64) \\\n",
    "        AppleWebKit/537.36 (KHTML, like Gecko) Chrome/54.0.2840.99 Safari/537.36'\n",
    "    }\n",
    "\n",
    "    for i in range(loopUntil):\n",
    "        symbol, link = df_Yahoo_links_good_sectors_latestdates.iloc[i][[\"Yahoo_Symbol\", \"Yahoo_Listings_Link\"]]\n",
    "\n",
    "        # Replace the placeholders in our link with actual timestamps\n",
    "        link = link.replace('{timestmp1}', str(timestmp1)).replace('{timestmp2}', str(timestmp2))\n",
    "\n",
    "        #proxy_url = random.choice(lst_good_proxies_url)\n",
    "        #logging.info(f\"\\nAttempting download historical prices for symbol '{symbol}'' from {link} using proxy {proxy_url}\")\n",
    "        print(f\"\\nAttempting download historical prices for symbol '{symbol}'' from {link}\")\n",
    "        try:\n",
    "            #dict_dfYahooSecurities[symbol] = pd.read_csv(link, usecols=[\"Date\", \"Adj Close\"], parse_dates=True, infer_datetime_format=True)\n",
    "            # We cannot use read_csv directly, because Yahoo will block our requests if we issue too many from the same IP address, so...\n",
    "            #response = requests.get(link, proxies={\"http\": proxy_url, \"https\": proxy_url})\n",
    "            response = requests.get(link, headers=header)\n",
    "            #logging.info(f\"\\n{response.text[:200]}\")\n",
    "            #logging.info(f\"\\n{response.text[-200:]}\")\n",
    "            dict_dfYahooSecurities[symbol] = pd.read_csv(io.StringIO(response.text), usecols=[\"Date\", \"Adj Close\"])\n",
    "            # Convert the Date column to the correct data type\n",
    "            dict_dfYahooSecurities[symbol]['Date'] = pd.to_datetime(dict_dfYahooSecurities[symbol]['Date'], utc=False) #, utc=True\n",
    "            dict_dfYahooSecurities[symbol].columns = [\"Date\", symbol]\n",
    "            dict_dfYahooSecurities[symbol].set_index('Date', drop=True, inplace=True)\n",
    "\n",
    "            # We don't need to save to CSV since we write directly to table in SQLite3 database now\n",
    "            \"\"\"\n",
    "            outputfilename =f\"output/history_security_{symbol}.csv\"\n",
    "            with open(outputfilename, \"w\") as filehandle:\n",
    "                #dict_dfYahooSecurities[symbol].to_csv(filehandle, index=False, lineterminator = '\\r', encoding='utf-8-sig')\n",
    "                dict_dfYahooSecurities[symbol].to_csv(filehandle, index=False, lineterminator = '\\n', encoding='utf-8')\n",
    "            if not filehandle.closed:\n",
    "                filehandle.close()\n",
    "            filehandle = None\n",
    "            \"\"\"\n",
    "        except Exception as e:\n",
    "            #logging.exception(str(e))\n",
    "            print(str(e))\n",
    "            continue\n",
    "\n",
    "print(\"\\nJoining all columns of the downloaded securities into a single dataframe\")\n",
    "\n",
    "for df in dict_dfYahooSecurities.values():\n",
    "    dfAllDates = dfAllDates.join(df)"
   ]
  },
  {
   "cell_type": "code",
   "execution_count": 12,
   "metadata": {},
   "outputs": [
    {
     "data": {
      "text/html": [
       "<div>\n",
       "<style scoped>\n",
       "    .dataframe tbody tr th:only-of-type {\n",
       "        vertical-align: middle;\n",
       "    }\n",
       "\n",
       "    .dataframe tbody tr th {\n",
       "        vertical-align: top;\n",
       "    }\n",
       "\n",
       "    .dataframe thead th {\n",
       "        text-align: right;\n",
       "    }\n",
       "</style>\n",
       "<table border=\"1\" class=\"dataframe\">\n",
       "  <thead>\n",
       "    <tr style=\"text-align: right;\">\n",
       "      <th></th>\n",
       "      <th>AAMC</th>\n",
       "      <th>ACU</th>\n",
       "      <th>AE</th>\n",
       "      <th>AGE</th>\n",
       "    </tr>\n",
       "    <tr>\n",
       "      <th>Date</th>\n",
       "      <th></th>\n",
       "      <th></th>\n",
       "      <th></th>\n",
       "      <th></th>\n",
       "    </tr>\n",
       "  </thead>\n",
       "  <tbody>\n",
       "    <tr>\n",
       "      <th>2023-10-19</th>\n",
       "      <td>6.55</td>\n",
       "      <td>28.049999</td>\n",
       "      <td>31.26</td>\n",
       "      <td>0.652</td>\n",
       "    </tr>\n",
       "    <tr>\n",
       "      <th>2023-10-20</th>\n",
       "      <td>NaN</td>\n",
       "      <td>NaN</td>\n",
       "      <td>NaN</td>\n",
       "      <td>NaN</td>\n",
       "    </tr>\n",
       "  </tbody>\n",
       "</table>\n",
       "</div>"
      ],
      "text/plain": [
       "            AAMC        ACU     AE    AGE\n",
       "Date                                     \n",
       "2023-10-19  6.55  28.049999  31.26  0.652\n",
       "2023-10-20   NaN        NaN    NaN    NaN"
      ]
     },
     "execution_count": 12,
     "metadata": {},
     "output_type": "execute_result"
    }
   ],
   "source": [
    "dfAllDates"
   ]
  },
  {
   "cell_type": "code",
   "execution_count": 13,
   "metadata": {},
   "outputs": [
    {
     "data": {
      "text/html": [
       "<div>\n",
       "<style scoped>\n",
       "    .dataframe tbody tr th:only-of-type {\n",
       "        vertical-align: middle;\n",
       "    }\n",
       "\n",
       "    .dataframe tbody tr th {\n",
       "        vertical-align: top;\n",
       "    }\n",
       "\n",
       "    .dataframe thead th {\n",
       "        text-align: right;\n",
       "    }\n",
       "</style>\n",
       "<table border=\"1\" class=\"dataframe\">\n",
       "  <thead>\n",
       "    <tr style=\"text-align: right;\">\n",
       "      <th></th>\n",
       "      <th>AAMC</th>\n",
       "      <th>ACU</th>\n",
       "      <th>AE</th>\n",
       "      <th>AGE</th>\n",
       "    </tr>\n",
       "    <tr>\n",
       "      <th>Date</th>\n",
       "      <th></th>\n",
       "      <th></th>\n",
       "      <th></th>\n",
       "      <th></th>\n",
       "    </tr>\n",
       "  </thead>\n",
       "  <tbody>\n",
       "    <tr>\n",
       "      <th>2023-10-19</th>\n",
       "      <td>6.55</td>\n",
       "      <td>28.049999</td>\n",
       "      <td>31.26</td>\n",
       "      <td>0.652</td>\n",
       "    </tr>\n",
       "  </tbody>\n",
       "</table>\n",
       "</div>"
      ],
      "text/plain": [
       "            AAMC        ACU     AE    AGE\n",
       "Date                                     \n",
       "2023-10-19  6.55  28.049999  31.26  0.652"
      ]
     },
     "execution_count": 13,
     "metadata": {},
     "output_type": "execute_result"
    }
   ],
   "source": [
    "dfToAppend = dfAllDates[dfAllDates.any(axis=1)]\n",
    "dfToAppend"
   ]
  },
  {
   "cell_type": "code",
   "execution_count": 14,
   "metadata": {},
   "outputs": [
    {
     "name": "stdout",
     "output_type": "stream",
     "text": [
      "\n",
      "Saving joined dataframe to table 'securities_by_date' in database 'output/team122project.sqlite3'\n"
     ]
    },
    {
     "data": {
      "text/plain": [
       "1"
      ]
     },
     "execution_count": 14,
     "metadata": {},
     "output_type": "execute_result"
    }
   ],
   "source": [
    "print(f\"\\nSaving joined dataframe to table 'securities_by_date' in database 'output/team122project.sqlite3'\")\n",
    "dfToAppend.to_sql(name='securities_by_date', con=conn, if_exists='append', index=True)"
   ]
  },
  {
   "cell_type": "code",
   "execution_count": null,
   "metadata": {},
   "outputs": [],
   "source": []
  }
 ],
 "metadata": {
  "kernelspec": {
   "display_name": "CSE6242",
   "language": "python",
   "name": "python3"
  },
  "language_info": {
   "codemirror_mode": {
    "name": "ipython",
    "version": 3
   },
   "file_extension": ".py",
   "mimetype": "text/x-python",
   "name": "python",
   "nbconvert_exporter": "python",
   "pygments_lexer": "ipython3",
   "version": "3.11.4"
  }
 },
 "nbformat": 4,
 "nbformat_minor": 2
}
